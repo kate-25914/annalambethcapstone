{
  "nbformat": 4,
  "nbformat_minor": 0,
  "metadata": {
    "colab": {
      "provenance": [],
      "authorship_tag": "ABX9TyOF/qb9Vg7grPJ1qJIYYnbr",
      "include_colab_link": true
    },
    "kernelspec": {
      "name": "python3",
      "display_name": "Python 3"
    },
    "language_info": {
      "name": "python"
    },
    "widgets": {
      "application/vnd.jupyter.widget-state+json": {
        "af0b0fb173ec48da9c874a4353d28709": {
          "model_module": "@jupyter-widgets/controls",
          "model_name": "FloatSliderModel",
          "model_module_version": "1.5.0",
          "state": {
            "_dom_classes": [],
            "_model_module": "@jupyter-widgets/controls",
            "_model_module_version": "1.5.0",
            "_model_name": "FloatSliderModel",
            "_view_count": null,
            "_view_module": "@jupyter-widgets/controls",
            "_view_module_version": "1.5.0",
            "_view_name": "FloatSliderView",
            "continuous_update": true,
            "description": "Years",
            "description_tooltip": null,
            "disabled": false,
            "layout": "IPY_MODEL_e11d3f41920d4409ae1fe6d3efc36d85",
            "max": 12,
            "min": 0,
            "orientation": "horizontal",
            "readout": true,
            "readout_format": ".2f",
            "step": 0.5,
            "style": "IPY_MODEL_e4e0f53776214e13901b75015566e672",
            "value": 5
          }
        },
        "e11d3f41920d4409ae1fe6d3efc36d85": {
          "model_module": "@jupyter-widgets/base",
          "model_name": "LayoutModel",
          "model_module_version": "1.2.0",
          "state": {
            "_model_module": "@jupyter-widgets/base",
            "_model_module_version": "1.2.0",
            "_model_name": "LayoutModel",
            "_view_count": null,
            "_view_module": "@jupyter-widgets/base",
            "_view_module_version": "1.2.0",
            "_view_name": "LayoutView",
            "align_content": null,
            "align_items": null,
            "align_self": null,
            "border": null,
            "bottom": null,
            "display": null,
            "flex": null,
            "flex_flow": null,
            "grid_area": null,
            "grid_auto_columns": null,
            "grid_auto_flow": null,
            "grid_auto_rows": null,
            "grid_column": null,
            "grid_gap": null,
            "grid_row": null,
            "grid_template_areas": null,
            "grid_template_columns": null,
            "grid_template_rows": null,
            "height": null,
            "justify_content": null,
            "justify_items": null,
            "left": null,
            "margin": null,
            "max_height": null,
            "max_width": null,
            "min_height": null,
            "min_width": null,
            "object_fit": null,
            "object_position": null,
            "order": null,
            "overflow": null,
            "overflow_x": null,
            "overflow_y": null,
            "padding": null,
            "right": null,
            "top": null,
            "visibility": null,
            "width": null
          }
        },
        "e4e0f53776214e13901b75015566e672": {
          "model_module": "@jupyter-widgets/controls",
          "model_name": "SliderStyleModel",
          "model_module_version": "1.5.0",
          "state": {
            "_model_module": "@jupyter-widgets/controls",
            "_model_module_version": "1.5.0",
            "_model_name": "SliderStyleModel",
            "_view_count": null,
            "_view_module": "@jupyter-widgets/base",
            "_view_module_version": "1.2.0",
            "_view_name": "StyleView",
            "description_width": "",
            "handle_color": null
          }
        },
        "36e948fcd4dd4ee4a5efa0c5093ee70e": {
          "model_module": "@jupyter-widgets/output",
          "model_name": "OutputModel",
          "model_module_version": "1.0.0",
          "state": {
            "_dom_classes": [],
            "_model_module": "@jupyter-widgets/output",
            "_model_module_version": "1.0.0",
            "_model_name": "OutputModel",
            "_view_count": null,
            "_view_module": "@jupyter-widgets/output",
            "_view_module_version": "1.0.0",
            "_view_name": "OutputView",
            "layout": "IPY_MODEL_ef5a6bb774f141e5aa2cb8229abfa933",
            "msg_id": "",
            "outputs": [
              {
                "output_type": "display_data",
                "data": {
                  "text/plain": "'Predicted Yearly Salary: $73042.01180594407'",
                  "application/vnd.google.colaboratory.intrinsic+json": {
                    "type": "string"
                  }
                },
                "metadata": {}
              },
              {
                "output_type": "display_data",
                "data": {
                  "text/plain": "'Predicted Hourly Wages: $35.116351829780804'",
                  "application/vnd.google.colaboratory.intrinsic+json": {
                    "type": "string"
                  }
                },
                "metadata": {}
              }
            ]
          }
        },
        "ef5a6bb774f141e5aa2cb8229abfa933": {
          "model_module": "@jupyter-widgets/base",
          "model_name": "LayoutModel",
          "model_module_version": "1.2.0",
          "state": {
            "_model_module": "@jupyter-widgets/base",
            "_model_module_version": "1.2.0",
            "_model_name": "LayoutModel",
            "_view_count": null,
            "_view_module": "@jupyter-widgets/base",
            "_view_module_version": "1.2.0",
            "_view_name": "LayoutView",
            "align_content": null,
            "align_items": null,
            "align_self": null,
            "border": null,
            "bottom": null,
            "display": null,
            "flex": null,
            "flex_flow": null,
            "grid_area": null,
            "grid_auto_columns": null,
            "grid_auto_flow": null,
            "grid_auto_rows": null,
            "grid_column": null,
            "grid_gap": null,
            "grid_row": null,
            "grid_template_areas": null,
            "grid_template_columns": null,
            "grid_template_rows": null,
            "height": null,
            "justify_content": null,
            "justify_items": null,
            "left": null,
            "margin": null,
            "max_height": null,
            "max_width": null,
            "min_height": null,
            "min_width": null,
            "object_fit": null,
            "object_position": null,
            "order": null,
            "overflow": null,
            "overflow_x": null,
            "overflow_y": null,
            "padding": null,
            "right": null,
            "top": null,
            "visibility": null,
            "width": null
          }
        }
      }
    }
  },
  "cells": [
    {
      "cell_type": "markdown",
      "metadata": {
        "id": "view-in-github",
        "colab_type": "text"
      },
      "source": [
        "<a href=\"https://colab.research.google.com/github/kate-25914/c951annalambeth/blob/main/capstone.ipynb\" target=\"_parent\"><img src=\"https://colab.research.google.com/assets/colab-badge.svg\" alt=\"Open In Colab\"/></a>"
      ]
    },
    {
      "cell_type": "code",
      "source": [
        "import csv\n",
        "import pandas as pd\n",
        "import numpy as np\n",
        "import matplotlib.pyplot as plt\n",
        "from matplotlib import style\n",
        "from sklearn import linear_model\n",
        "import ipywidgets as widgets\n",
        "from IPython.display import display, clear_output\n",
        "%pip install -q ipywidgets\n",
        "from ipywidgets import interact, interactive, fixed, interact_manual\n",
        "\n",
        "\n",
        "data = pd.read_csv(\"Salary_Data.csv\")\n",
        "\n",
        "#convert data to lists\n",
        "YE_list = data['YearsExperience'].tolist()\n",
        "Salary_list = data['Salary'].tolist()\n",
        "\n",
        "#convert lists to numpy lists\n",
        "xs = np.array(YE_list, dtype=np.float64)\n",
        "ys = np.array(Salary_list, dtype=np.float64)\n",
        "\n",
        "#linear regression model\n",
        "YE_Salary = linear_model.LinearRegression()\n",
        "\n",
        "#train model using training sets\n",
        "YE_Salary.fit(xs.reshape(-1,1),ys)\n",
        "\n",
        "#get the regression line\n",
        "RL = YE_Salary.predict(xs.reshape(-1,1))\n",
        "\n",
        "#manipulating data to make predictions with a widget\n",
        "print(\"Please use the slider below to enter in the prospective employee's years of experience.\")\n",
        "print(\"Using the entered value, the program will predict a yearly salary and corresponding hourly wages.\")\n",
        "output = widgets.Output()\n",
        "Years_Widget = widgets.FloatSlider(value=5, min=0, max=12, step=0.5, description=\"Years\")\n",
        "    \n",
        "def f2(EX_YE):\n",
        "    EX_Salary = YE_Salary.predict(np.array([[EX_YE]]))\n",
        "    Wages = (EX_Salary/52)/40\n",
        "    display(\"Predicted Yearly Salary: $\" + str(EX_Salary[0]))\n",
        "    display(\"Predicted Hourly Wages: $\" + str(Wages[0]))\n",
        "    \n",
        "out2 = widgets.interactive_output(f2, {'EX_YE': Years_Widget})\n",
        "display(Years_Widget)\n",
        "display(out2)\n"
      ],
      "metadata": {
        "id": "5CQIy_kdoeLp",
        "colab": {
          "base_uri": "https://localhost:8080/",
          "height": 121,
          "referenced_widgets": [
            "af0b0fb173ec48da9c874a4353d28709",
            "e11d3f41920d4409ae1fe6d3efc36d85",
            "e4e0f53776214e13901b75015566e672",
            "36e948fcd4dd4ee4a5efa0c5093ee70e",
            "ef5a6bb774f141e5aa2cb8229abfa933"
          ]
        },
        "outputId": "4d677050-a6f8-4caa-a5a6-cdabb0c50540"
      },
      "execution_count": 2,
      "outputs": [
        {
          "output_type": "stream",
          "name": "stdout",
          "text": [
            "Please use the slider below to enter in the prospective employee's years of experience.\n",
            "Using the entered value, the program will predict a yearly salary and corresponding hourly wages.\n"
          ]
        },
        {
          "output_type": "display_data",
          "data": {
            "text/plain": [
              "FloatSlider(value=5.0, description='Years', max=12.0, step=0.5)"
            ],
            "application/vnd.jupyter.widget-view+json": {
              "version_major": 2,
              "version_minor": 0,
              "model_id": "af0b0fb173ec48da9c874a4353d28709"
            }
          },
          "metadata": {}
        },
        {
          "output_type": "display_data",
          "data": {
            "text/plain": [
              "Output()"
            ],
            "application/vnd.jupyter.widget-view+json": {
              "version_major": 2,
              "version_minor": 0,
              "model_id": "36e948fcd4dd4ee4a5efa0c5093ee70e"
            }
          },
          "metadata": {}
        }
      ]
    },
    {
      "cell_type": "code",
      "source": [
        "#Scatterplot w/ no regression line\n",
        "style.use('seaborn')\n",
        "plt.scatter(xs,ys,label='Recorded Data', alpha=0.6,color='green', s=75)\n",
        "plt.title('Years Experience and Salary Linear Regression')\n",
        "plt.xlabel('Experience in Years')\n",
        "plt.ylabel('Salary')\n",
        "plt.legend()\n",
        "\n",
        "plt.show"
      ],
      "metadata": {
        "colab": {
          "base_uri": "https://localhost:8080/",
          "height": 393
        },
        "id": "DyHDhcVlE2t6",
        "outputId": "df17fa37-cc6c-4df4-d8dd-1d02110e0da7"
      },
      "execution_count": null,
      "outputs": [
        {
          "output_type": "execute_result",
          "data": {
            "text/plain": [
              "<function matplotlib.pyplot.show(*args, **kw)>"
            ]
          },
          "metadata": {},
          "execution_count": 3
        },
        {
          "output_type": "display_data",
          "data": {
            "text/plain": [
              "<Figure size 576x396 with 1 Axes>"
            ],
            "image/png": "[encoded data removed]"
          },
          "metadata": {}
        }
      ]
    },
    {
      "cell_type": "code",
      "source": [
        "#Scatterplot\n",
        "style.use('seaborn')\n",
        "plt.scatter(xs,ys,label='Recorded Data', alpha=0.6,color='green', s=75)\n",
        "plt.plot(xs,RL, label='Best Fit Line', color='red')\n",
        "plt.title('Years Experience and Salary Linear Regression')\n",
        "plt.xlabel('Experience in Years')\n",
        "plt.ylabel('Salary')\n",
        "plt.legend()\n",
        "\n",
        "plt.show"
      ],
      "metadata": {
        "colab": {
          "base_uri": "https://localhost:8080/",
          "height": 393
        },
        "id": "UDoa0vYJYO-d",
        "outputId": "887fc165-2c80-4731-9332-a0f4ec9fd658"
      },
      "execution_count": null,
      "outputs": [
        {
          "output_type": "execute_result",
          "data": {
            "text/plain": [
              "<function matplotlib.pyplot.show(*args, **kw)>"
            ]
          },
          "metadata": {},
          "execution_count": 2
        },
        {
          "output_type": "display_data",
          "data": {
            "text/plain": [
              "<Figure size 576x396 with 1 Axes>"
            ],
            "image/png": "[encoded data removed]"
          },
          "metadata": {}
        }
      ]
    },
    {
      "cell_type": "code",
      "source": [
        "#Bar Graph\n",
        "data = {'1.0-1.9': 3, '2.0-2.9': 3, '3.0-3.9': 5, '4.0-4.9': 5, '5.0-5.9': 3, '6.0-6.9': 2, \n",
        "        '7.0-7.9': 2, '8.0-8.9': 2, '9.0-9.9': 3, '10.0-10.9': 2}\n",
        "Years = list(data.keys())\n",
        "Employees = list(data.values())\n",
        "fig = plt.figure(figsize = (10, 5))\n",
        "\n",
        "plt.bar(Years, Employees, color ='green', width=0.4)\n",
        "plt.xlabel(\"Years of Experience\")\n",
        "plt.ylabel(\"No. of Employees\")\n",
        "plt.title('No. of Employees and their Years of Experience')\n",
        "plt.show"
      ],
      "metadata": {
        "id": "S48QklbbKFbT",
        "colab": {
          "base_uri": "https://localhost:8080/",
          "height": 366
        },
        "outputId": "bd554e2f-d7bb-4a1f-b0ed-8e8bdf23a1fd"
      },
      "execution_count": null,
      "outputs": [
        {
          "output_type": "execute_result",
          "data": {
            "text/plain": [
              "<function matplotlib.pyplot.show(*args, **kw)>"
            ]
          },
          "metadata": {},
          "execution_count": 4
        },
        {
          "output_type": "display_data",
          "data": {
            "text/plain": [
              "<Figure size 720x360 with 1 Axes>"
            ],
            "image/png": "[encoded data removed]"
          },
          "metadata": {}
        }
      ]
    },
    {
      "cell_type": "code",
      "source": [
        "from google.colab import drive\n",
        "drive.mount('/content/drive')"
      ],
      "metadata": {
        "id": "9vl05I9-fc_Z"
      },
      "execution_count": null,
      "outputs": []
    }
  ]
}